{
  "cells": [
    {
      "cell_type": "raw",
      "metadata": {},
      "source": [
        "---\n",
        "title: 'Introduction<br><font size=\"5\" color=\"black\"> [Data-based Storytelling](https://danielw2904.github.io/data-based-storytelling/)</font>'\n",
        "title-slide-attributes: \n",
        "  data-background-image: Graphics/D2.jpg\n",
        "  #data-background-color: white\n",
        "  #data-background-opacity: \"0.5\"\n",
        "author: \n",
        "- Daniel Winkler\n",
        "- Nils Wlömert\n",
        "format: \n",
        "    revealjs:\n",
        "        theme: [simple, rds_theme.scss]\n",
        "        logo: Graphics/WU_logo.png\n",
        "        footer: \"Data-based Storytelling\"\n",
        "        height: 1080\n",
        "        width: 1920\n",
        "        center-title-slide: false\n",
        "        center: false\n",
        "---"
      ],
      "id": "cab5d9be"
    },
    {
      "cell_type": "markdown",
      "metadata": {},
      "source": [
        "```{css, include=FALSE}\n",
        ".title {\n",
        "  font-size: 120px !important;\n",
        "  color: red !important;\n",
        "}\n",
        "\n",
        ".author {\n",
        "  font-size: 100px;\n",
        "  color: blue;\n",
        "}\n",
        "\n",
        ".date {\n",
        "  font-size: 80px;\n",
        "  color: green;\n",
        "}\n",
        "```\n",
        "\n",
        "\n",
        "## Welcome\n",
        "\n",
        "- some text"
      ],
      "id": "7a308c85"
    }
  ],
  "metadata": {
    "kernelspec": {
      "display_name": "Python 3",
      "language": "python",
      "name": "python3"
    }
  },
  "nbformat": 4,
  "nbformat_minor": 5
}